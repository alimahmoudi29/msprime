{
 "cells": [
  {
   "cell_type": "markdown",
   "metadata": {
    "collapsed": true
   },
   "source": [
    "# This document esplain the new feature of msprime: \"recoed_full_arg\""
   ]
  },
  {
   "cell_type": "code",
   "execution_count": 1,
   "metadata": {},
   "outputs": [],
   "source": [
    "from algorithms import *"
   ]
  },
  {
   "cell_type": "markdown",
   "metadata": {},
   "source": [
    "The following  is msprime output with the full arg recording.\n",
    "***outputs:***\n",
    "\n",
    "1. Node table: this table contains all the nodes in the  ARG. \"id\" is the id of the node. \"flag\": 1 is for  leaves, 0  is for internal nodes, \"131072\": recombinant parent (this is new), and \"262144\" is for CA event (new).\n",
    "\tthe rest is the population, individual of a particular population and the time of the nodes.\n",
    "2. Edge tables: this table includes the  event information and ancestral material on each node (same as coalescence records but in a new encoding). Previously, only coalescence were recorded here, but now the \"recombination and the CA\" are recorded as well. \n",
    "3. Trees: the intervals and their tree are presented. We can see that in the case of Full ARG, the \"CA\" and \"recomb\" nodes are on the path of parent and children nodes of the tree. It is still not clear for me that how they now what ancestral nodes are on each node. \n"
   ]
  },
  {
   "cell_type": "code",
   "execution_count": 4,
   "metadata": {
    "collapsed": false
   },
   "outputs": [
    {
     "name": "stdout",
     "output_type": "stream",
     "text": [
      "-------------------------------------------------- This is ts nodes\nid\tflags\tpopulation\tindividual\ttime\tmetadata\n0\t1\t0\t-1\t0.00000000000000\t\n1\t1\t0\t-1\t0.00000000000000\t\n2\t1\t0\t-1\t0.00000000000000\t\n3\t1\t0\t-1\t0.00000000000000\t\n4\t1\t0\t-1\t0.00000000000000\t\n5\t1\t0\t-1\t0.00000000000000\t\n6\t131072\t0\t-1\t0.19552836780077\t\n7\t131072\t0\t-1\t0.19552836780077\t\n8\t131072\t0\t-1\t0.27996524348367\t\n9\t131072\t0\t-1\t0.27996524348367\t\n10\t0\t0\t-1\t0.34485431336219\t\n11\t0\t0\t-1\t0.35488599430918\t\n12\t0\t0\t-1\t0.40902308545329\t\n13\t0\t0\t-1\t0.61949585484771\t\n14\t0\t0\t-1\t1.04620577016366\t\n15\t0\t0\t-1\t1.04672514890627\t\n16\t131072\t0\t-1\t1.29998942753234\t\n17\t131072\t0\t-1\t1.29998942753234\t\n18\t262144\t0\t-1\t1.79594132155791\t\n19\t131072\t0\t-1\t1.82510698042932\t\n20\t131072\t0\t-1\t1.82510698042932\t\n21\t0\t0\t-1\t2.16550294490041\t\n22\t0\t0\t-1\t9.44610232320866\t\n--------------------------------------------------The edges table\nid\tleft\t\tright\t\tparent\tchild\n0\t0.00000000\t0.70428587\t6\t0\n1\t0.70428587\t1.00000000\t7\t0\n2\t0.00000000\t0.38243185\t8\t1\n3\t0.38243185\t1.00000000\t9\t1\n4\t0.00000000\t1.00000000\t10\t3\n5\t0.70428587\t1.00000000\t10\t7\n6\t0.00000000\t1.00000000\t11\t4\n7\t0.00000000\t1.00000000\t11\t10\n8\t0.00000000\t1.00000000\t12\t2\n9\t0.00000000\t1.00000000\t12\t11\n10\t0.00000000\t1.00000000\t13\t5\n11\t0.38243185\t1.00000000\t13\t9\n12\t0.00000000\t0.70428587\t14\t6\n13\t0.00000000\t0.38243185\t14\t8\n14\t0.00000000\t1.00000000\t15\t13\n15\t0.00000000\t0.70428587\t15\t14\n16\t0.00000000\t0.60848448\t16\t12\n17\t0.60848448\t1.00000000\t17\t12\n18\t0.00000000\t0.60848448\t18\t16\n19\t0.60848448\t1.00000000\t18\t17\n20\t0.00000000\t0.04954932\t19\t15\n21\t0.04954932\t1.00000000\t20\t15\n22\t0.00000000\t1.00000000\t21\t18\n23\t0.04954932\t1.00000000\t21\t20\n24\t0.00000000\t0.04954932\t22\t19\n25\t0.00000000\t0.04954932\t22\t21\n\ninterval: (0.0, 0.04954932351818991)\n     22      \n  ┏━━┻━━┓    \n  ┃     21   \n  ┃     ┃    \n  19    ┃    \n  ┃     ┃    \n  ┃     18   \n  ┃     ┃    \n  ┃     16   \n  ┃     ┃    \n  15    ┃    \n┏━┻┓    ┃    \n┃  14   ┃    \n┃ ┏┻┓   ┃    \n13┃ ┃   ┃    \n┃ ┃ ┃   ┃    \n┃ ┃ ┃   12   \n┃ ┃ ┃ ┏━┻┓   \n┃ ┃ ┃ ┃  11  \n┃ ┃ ┃ ┃ ┏┻┓  \n┃ ┃ ┃ ┃ ┃ 10 \n┃ ┃ ┃ ┃ ┃ ┃  \n┃ ┃ 8 ┃ ┃ ┃  \n┃ ┃ ┃ ┃ ┃ ┃  \n┃ 6 ┃ ┃ ┃ ┃  \n┃ ┃ ┃ ┃ ┃ ┃  \n5 0 1 2 4 3  \n\ninterval: (0.04954932351818991, 0.38243185388446593)\n     21      \n  ┏━━┻━━┓    \n  ┃     20   \n  ┃     ┃    \n  18    ┃    \n  ┃     ┃    \n  16    ┃    \n  ┃     ┃    \n  ┃     15   \n  ┃   ┏━┻┓   \n  ┃   ┃  14  \n  ┃   ┃ ┏┻┓  \n  ┃   13┃ ┃  \n  ┃   ┃ ┃ ┃  \n  12  ┃ ┃ ┃  \n┏━┻┓  ┃ ┃ ┃  \n┃  11 ┃ ┃ ┃  \n┃ ┏┻┓ ┃ ┃ ┃  \n┃ ┃ 10┃ ┃ ┃  \n┃ ┃ ┃ ┃ ┃ ┃  \n┃ ┃ ┃ ┃ ┃ 8  \n┃ ┃ ┃ ┃ ┃ ┃  \n┃ ┃ ┃ ┃ 6 ┃  \n┃ ┃ ┃ ┃ ┃ ┃  \n2 4 3 5 0 1  \n\ninterval: (0.38243185388446593, 0.6084844818358506)\n     21      \n  ┏━━┻━━┓    \n  ┃     20   \n  ┃     ┃    \n  18    ┃    \n  ┃     ┃    \n  16    ┃    \n  ┃     ┃    \n  ┃     15   \n  ┃    ┏┻━┓  \n  ┃    ┃  14 \n  ┃    ┃  ┃  \n  ┃    13 ┃  \n  ┃   ┏┻┓ ┃  \n  12  ┃ ┃ ┃  \n┏━┻┓  ┃ ┃ ┃  \n┃  11 ┃ ┃ ┃  \n┃ ┏┻┓ ┃ ┃ ┃  \n┃ ┃ 10┃ ┃ ┃  \n┃ ┃ ┃ ┃ ┃ ┃  \n┃ ┃ ┃ ┃ 9 ┃  \n┃ ┃ ┃ ┃ ┃ ┃  \n┃ ┃ ┃ ┃ ┃ 6  \n┃ ┃ ┃ ┃ ┃ ┃  \n2 4 3 5 1 0  \n\ninterval: (0.6084844818358506, 0.70428586930602)\n     21      \n  ┏━━┻━━┓    \n  ┃     20   \n  ┃     ┃    \n  18    ┃    \n  ┃     ┃    \n  17    ┃    \n  ┃     ┃    \n  ┃     15   \n  ┃    ┏┻━┓  \n  ┃    ┃  14 \n  ┃    ┃  ┃  \n  ┃    13 ┃  \n  ┃   ┏┻┓ ┃  \n  12  ┃ ┃ ┃  \n┏━┻┓  ┃ ┃ ┃  \n┃  11 ┃ ┃ ┃  \n┃ ┏┻┓ ┃ ┃ ┃  \n┃ ┃ 10┃ ┃ ┃  \n┃ ┃ ┃ ┃ ┃ ┃  \n┃ ┃ ┃ ┃ 9 ┃  \n┃ ┃ ┃ ┃ ┃ ┃  \n┃ ┃ ┃ ┃ ┃ 6  \n┃ ┃ ┃ ┃ ┃ ┃  \n2 4 3 5 1 0  \n\ninterval: (0.70428586930602, 1.0)\n      21     \n  ┏━━━┻━━┓   \n  ┃      20  \n  ┃      ┃   \n  18     ┃   \n  ┃      ┃   \n  17     ┃   \n  ┃      ┃   \n  ┃      15  \n  ┃      ┃   \n  ┃      13  \n  ┃     ┏┻┓  \n  12    ┃ ┃  \n┏━┻━┓   ┃ ┃  \n┃   11  ┃ ┃  \n┃ ┏━┻┓  ┃ ┃  \n┃ ┃  10 ┃ ┃  \n┃ ┃ ┏┻┓ ┃ ┃  \n┃ ┃ ┃ ┃ ┃ 9  \n┃ ┃ ┃ ┃ ┃ ┃  \n┃ ┃ ┃ 7 ┃ ┃  \n┃ ┃ ┃ ┃ ┃ ┃  \n2 4 3 0 5 1  \n\n"
     ]
    }
   ],
   "source": [
    "def full_arg_example():\n",
    "    ts = msprime.simulate(\n",
    "        sample_size=6, recombination_rate=0.4, record_full_arg=True, random_seed=42)\n",
    "    print(\"-\"*50+\" This is ts nodes\")\n",
    "    print(ts.tables.nodes)\n",
    "    print(\"-\"*50+ \"The edges table\")\n",
    "    print(ts.tables.edges)\n",
    "    print()\n",
    "    for tree in ts.trees():\n",
    "        print(\"interval:\", tree.interval)\n",
    "        print(tree.draw(format=\"unicode\"))\n",
    "\n",
    "full_arg_example()"
   ]
  },
  {
   "cell_type": "markdown",
   "metadata": {},
   "source": [
    "# same example: record_full_arg == False\n"
   ]
  },
  {
   "cell_type": "code",
   "execution_count": 5,
   "metadata": {},
   "outputs": [
    {
     "name": "stdout",
     "output_type": "stream",
     "text": [
      "-------------------------------------------------- This is ts nodes\nid\tflags\tpopulation\tindividual\ttime\tmetadata\n0\t1\t0\t-1\t0.00000000000000\t\n1\t1\t0\t-1\t0.00000000000000\t\n2\t1\t0\t-1\t0.00000000000000\t\n3\t1\t0\t-1\t0.00000000000000\t\n4\t1\t0\t-1\t0.00000000000000\t\n5\t1\t0\t-1\t0.00000000000000\t\n6\t0\t0\t-1\t0.34485431336219\t\n7\t0\t0\t-1\t0.35488599430918\t\n8\t0\t0\t-1\t0.40902308545329\t\n9\t0\t0\t-1\t0.61949585484771\t\n10\t0\t0\t-1\t1.04620577016366\t\n11\t0\t0\t-1\t1.04672514890627\t\n12\t0\t0\t-1\t2.16550294490041\t\n13\t0\t0\t-1\t3.14438886893867\t\n14\t0\t0\t-1\t3.58986059654815\t\n--------------------------------------------------The edges table\nid\tleft\t\tright\t\tparent\tchild\n0\t0.70428587\t1.00000000\t6\t0\n1\t0.70428587\t1.00000000\t6\t3\n2\t0.00000000\t0.70428587\t7\t3\n3\t0.00000000\t1.00000000\t7\t4\n4\t0.70428587\t1.00000000\t7\t6\n5\t0.38243185\t1.00000000\t8\t1\n6\t0.38243185\t1.00000000\t8\t2\n7\t0.00000000\t0.38243185\t9\t2\n8\t0.00000000\t1.00000000\t9\t7\n9\t0.38243185\t1.00000000\t9\t8\n10\t0.00000000\t0.38243185\t10\t0\n11\t0.00000000\t0.38243185\t10\t1\n12\t0.38243185\t0.70428587\t11\t0\n13\t0.00000000\t0.70428587\t11\t5\n14\t0.00000000\t0.38243185\t11\t10\n15\t0.75383519\t1.00000000\t12\t5\n16\t0.75383519\t1.00000000\t12\t9\n17\t0.70428587\t0.75383519\t13\t5\n18\t0.50280358\t0.75383519\t13\t9\n19\t0.50280358\t0.70428587\t13\t11\n20\t0.00000000\t0.50280358\t14\t9\n21\t0.00000000\t0.50280358\t14\t11\n\ninterval: (0.0, 0.38243185388446593)\n     14      \n  ┏━━┻━━┓    \n  ┃     11   \n  ┃   ┏━┻┓   \n  ┃   ┃  10  \n  ┃   ┃ ┏┻┓  \n  9   ┃ ┃ ┃  \n┏━┻┓  ┃ ┃ ┃  \n┃  7  ┃ ┃ ┃  \n┃ ┏┻┓ ┃ ┃ ┃  \n2 3 4 5 0 1  \n\ninterval: (0.38243185388446593, 0.5028035807196991)\n      14     \n   ┏━━┻━━┓   \n   ┃     11  \n   ┃    ┏┻┓  \n   9    ┃ ┃  \n ┏━┻━┓  ┃ ┃  \n ┃   8  ┃ ┃  \n ┃  ┏┻┓ ┃ ┃  \n 7  ┃ ┃ ┃ ┃  \n┏┻┓ ┃ ┃ ┃ ┃  \n3 4 1 2 5 0  \n\ninterval: (0.5028035807196991, 0.70428586930602)\n      13     \n   ┏━━┻━━┓   \n   ┃     11  \n   ┃    ┏┻┓  \n   9    ┃ ┃  \n ┏━┻━┓  ┃ ┃  \n ┃   8  ┃ ┃  \n ┃  ┏┻┓ ┃ ┃  \n 7  ┃ ┃ ┃ ┃  \n┏┻┓ ┃ ┃ ┃ ┃  \n3 4 1 2 5 0  \n\ninterval: (0.70428586930602, 0.7538351925913792)\n       13    \n    ┏━━┻━━┓  \n    9     ┃  \n  ┏━┻━━┓  ┃  \n  ┃    8  ┃  \n  ┃   ┏┻┓ ┃  \n  7   ┃ ┃ ┃  \n┏━┻┓  ┃ ┃ ┃  \n┃  6  ┃ ┃ ┃  \n┃ ┏┻┓ ┃ ┃ ┃  \n4 0 3 1 2 5  \n\ninterval: (0.7538351925913792, 1.0)\n   12        \n┏━━┻━━┓      \n┃     9      \n┃   ┏━┻━━┓   \n┃   ┃    8   \n┃   ┃   ┏┻┓  \n┃   7   ┃ ┃  \n┃ ┏━┻┓  ┃ ┃  \n┃ ┃  6  ┃ ┃  \n┃ ┃ ┏┻┓ ┃ ┃  \n5 4 0 3 1 2  \n\n"
     ]
    }
   ],
   "source": [
    "\n",
    "ts = msprime.simulate(\n",
    "    sample_size=6, recombination_rate=0.4, record_full_arg=False, random_seed=42)\n",
    "print(\"-\"*50+\" This is ts nodes\")\n",
    "print(ts.tables.nodes)\n",
    "print(\"-\"*50+ \"The edges table\")\n",
    "print(ts.tables.edges)\n",
    "print()\n",
    "for tree in ts.trees():\n",
    "    print(\"interval:\", tree.interval)\n",
    "    print(tree.draw(format=\"unicode\"))\n",
    "\n"
   ]
  },
  {
   "cell_type": "code",
   "execution_count": null,
   "metadata": {},
   "outputs": [],
   "source": []
  }
 ],
 "metadata": {
  "kernelspec": {
   "display_name": "Python 2",
   "language": "python",
   "name": "python2"
  },
  "language_info": {
   "codemirror_mode": {
    "name": "ipython",
    "version": 2
   },
   "file_extension": ".py",
   "mimetype": "text/x-python",
   "name": "python",
   "nbconvert_exporter": "python",
   "pygments_lexer": "ipython2",
   "version": "2.7.6"
  }
 },
 "nbformat": 4,
 "nbformat_minor": 0
}
